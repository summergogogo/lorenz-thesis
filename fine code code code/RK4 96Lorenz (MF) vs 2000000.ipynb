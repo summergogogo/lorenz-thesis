{
 "cells": [
  {
   "cell_type": "code",
   "execution_count": 10,
   "metadata": {},
   "outputs": [],
   "source": [
    "import matplotlib.pyplot as plt\n",
    "import numpy as np\n",
    "from mpl_toolkits.mplot3d import Axes3D\n",
    "%matplotlib inline"
   ]
  },
  {
   "cell_type": "code",
   "execution_count": 11,
   "metadata": {
    "collapsed": true
   },
   "outputs": [],
   "source": [
    "def fast_fourier_transform(t,y):\n",
    "    '''Return the fast Fourier transform of y.'''\n",
    "    ŷ = np.fft.fft(y)\n",
    "    ω = 2*np.pi*np.fft.fftfreq(len(time),time[1]-time[0])\n",
    "    return ω,ŷ"
   ]
  },
  {
   "cell_type": "code",
   "execution_count": 12,
   "metadata": {
    "collapsed": true
   },
   "outputs": [],
   "source": [
    "I = 4\n",
    "J = 8\n",
    "F = 14\n",
    "\n",
    "c = 10\n",
    "b = 10\n",
    "h = 1\n",
    "\n",
    "dt = 0.0001\n",
    "totstep = 2000000"
   ]
  },
  {
   "cell_type": "code",
   "execution_count": 13,
   "metadata": {
    "collapsed": true
   },
   "outputs": [],
   "source": [
    "def lorenz96(xy,i,j):\n",
    "\n",
    "    xy_dot[i] = (xy[0:I][(i-1)%I] * (xy[0:I][(i+1)%I] - xy[0:I][(i-2)%I]) - xy[0:I][i%I] + F - h*c/b*(np.sum([xy[I::][i::I]])))    \n",
    "    xy_dot[I+j*I+i] = (c*b*xy[I:][((j+1)%J)*I+i]*(xy[I:][((j-1)%J)*I+i]-xy[I:][((j+2)%J)*I+i])-c*xy[I:][((j)%J)*I+i]+h*c/b*xy[0:I][i])\n",
    "\n",
    "    #dx[i] = (x[(i-1)%I] * (x[(i+1)%I] - x[(i-2)%I]) - x[i%I] + F - h*c/b*(np.sum([y[jj%J,i] for jj in range(J)])))*dt     \n",
    "    #dy[j,i] = (c*b*y[(j+1)%J,i]*(y[(j-1)%J,i]-y[(j+2)%J,i])-c*y[(j)%J,i]+h*c/b*x[i])*dt\n",
    "    #print(i,j,xy_dot)\n",
    "\n",
    "    return xy_dot"
   ]
  },
  {
   "cell_type": "code",
   "execution_count": 14,
   "metadata": {
    "collapsed": true
   },
   "outputs": [],
   "source": [
    "def RK4(xylist,step,i,j):\n",
    "    \n",
    "    oldxy = xylist[((I+J*I)*(step-1)):((I+J*I)*(step))]\n",
    "\n",
    "    k1 = dt*lorenz96(oldxy,i,j)\n",
    "    k2 = dt*lorenz96(oldxy + k1*0.5*dt,i,j)\n",
    "    k3 = dt*lorenz96(oldxy + k2*0.5*dt,i,j)\n",
    "    k4 = dt*lorenz96(oldxy + k3*dt,i,j)\n",
    "\n",
    "    return oldxy + (k1 + 2*k2 + 2*k3 + k4)/6"
   ]
  },
  {
   "cell_type": "code",
   "execution_count": 15,
   "metadata": {},
   "outputs": [
    {
     "name": "stdout",
     "output_type": "stream",
     "text": [
      "[0.64477081 0.27046374 0.84110887 0.32038798]\n",
      "\n",
      "[[0.71115951 0.08215477 0.2920163  0.88695206]\n",
      " [0.66142933 0.01236276 0.39994903 0.26723111]\n",
      " [0.03586989 0.25331264 0.22931919 0.324941  ]\n",
      " [0.29802536 0.45370707 0.38964397 0.44056843]\n",
      " [0.76884472 0.56972018 0.02850918 0.39059297]\n",
      " [0.65720926 0.38113596 0.61768841 0.1188701 ]\n",
      " [0.95772669 0.47368205 0.45686188 0.78951962]\n",
      " [0.20745803 0.30555431 0.35406211 0.81002354]]\n",
      "\n",
      "\n",
      "[[0.6447708063064906, 0.2704637383074421, 0.8411088655589655, 0.32038798167896243]]\n",
      "\n"
     ]
    }
   ],
   "source": [
    "x = np.random.rand(I)\n",
    "y = np.random.rand(J,I)\n",
    "xylist = np.zeros([(totstep)*(I+J*I)])\n",
    "s=0\n",
    "\n",
    "print(x)\n",
    "print()\n",
    "print(y)\n",
    "print()\n",
    "\n",
    "newx=[]\n",
    "newlist = []\n",
    "time=[0]\n",
    "\n",
    "for ii in range(I):\n",
    "    xylist[ii] = x[ii]\n",
    "    #newx.append(x[ii])\n",
    "\n",
    "newx.append([x[ii] for ii in range(len(x))])\n",
    "print()\n",
    "print(newx)\n",
    "print()\n",
    "\n",
    "for jjj in range(J):\n",
    "    for iii in range(I):\n",
    "        xylist[I + jjj*I + iii] = y[jjj,iii]\n",
    "#print(xylist)"
   ]
  },
  {
   "cell_type": "code",
   "execution_count": 16,
   "metadata": {},
   "outputs": [
    {
     "name": "stdout",
     "output_type": "stream",
     "text": [
      "[0.64477081 0.27046374 0.84110887 ... 0.         0.         0.        ]\n"
     ]
    }
   ],
   "source": [
    "print(xylist)"
   ]
  },
  {
   "cell_type": "code",
   "execution_count": null,
   "metadata": {},
   "outputs": [],
   "source": [
    "for step in np.arange(1,totstep,1):\n",
    "    \n",
    "    xy_dot= np.zeros((I+J*I))\n",
    "    \n",
    "    for i in range(I):\n",
    "        \n",
    "        s+=1\n",
    "        time.append(s*dt)\n",
    "        \n",
    "        for j in range(J):\n",
    "            \n",
    "            xylist[(I+J*I)*(step):(I+J*I)*(step+1)] = RK4(xylist,step, i,j)\n",
    "            \n",
    "            newlist = xylist[(I+J*I)*(step):(I+J*I)*(step+1)][0:I]\n",
    "\n",
    "        newx.append([newlist[ij] for ij in range(len(newlist))])\n",
    "    \n",
    "#print(xylist[-20::])\n",
    "#print(time)\n",
    "#print(len(time))"
   ]
  },
  {
   "cell_type": "code",
   "execution_count": null,
   "metadata": {},
   "outputs": [],
   "source": [
    "x1 = np.array([newx[a][0] for a in range(len(newx))])\n",
    "x2 = np.array([newx[a][1] for a in range(len(newx))])\n",
    "x3 = np.array([newx[a][2] for a in range(len(newx))])\n",
    "x4 = np.array([newx[a][3] for a in range(len(newx))])"
   ]
  },
  {
   "cell_type": "code",
   "execution_count": null,
   "metadata": {},
   "outputs": [],
   "source": [
    "print(len(x1))"
   ]
  },
  {
   "cell_type": "code",
   "execution_count": null,
   "metadata": {},
   "outputs": [],
   "source": [
    "np.linspace(0, 10, N, endpoint=True)"
   ]
  },
  {
   "cell_type": "code",
   "execution_count": null,
   "metadata": {
    "collapsed": true
   },
   "outputs": [],
   "source": [
    "print(x2)"
   ]
  },
  {
   "cell_type": "code",
   "execution_count": null,
   "metadata": {
    "collapsed": true
   },
   "outputs": [],
   "source": [
    "fig = plt.figure()\n",
    "ax = fig.gca(projection='3d')\n",
    "ax.plot(-x2[3000000:], x1[3000000:], x3[3000000:],lw=0.5)\n",
    "ax.set_xlabel(\"$x_2$\")\n",
    "ax.set_ylabel(\"$x_1$\")\n",
    "ax.set_zlabel(\"$x_4$\")\n",
    "ax.set_title(\"Lorenz 1996\")\n",
    "plt.show()"
   ]
  },
  {
   "cell_type": "code",
   "execution_count": null,
   "metadata": {
    "collapsed": true
   },
   "outputs": [],
   "source": [
    "print(len(time))\n",
    "print(len(x1))"
   ]
  },
  {
   "cell_type": "code",
   "execution_count": null,
   "metadata": {
    "collapsed": true
   },
   "outputs": [],
   "source": [
    "fig = plt.figure(figsize=(8,5))\n",
    "plt.scatter(time,x1, s=0.5, marker='.', c='b')\n",
    "# title and labels\n",
    "plt.ylabel(r'$x_1$')\n",
    "plt.xlabel(r'$time$')\n",
    "plt.title('1996 Lorenz model\\n',fontsize=15)\n",
    "plt.xlim(time[-500000],time[-1])\n",
    "ax.set_xticklabels([])\n",
    "#plt.ylim(0,1)\n",
    "plt.show()"
   ]
  },
  {
   "cell_type": "code",
   "execution_count": null,
   "metadata": {
    "collapsed": true
   },
   "outputs": [],
   "source": [
    "# Get the discrete FT\n",
    "ω,ŷ = fast_fourier_transform(time,x1)\n",
    "print(len(time))\n",
    "# Plot the real and imaginary parts of the DFT\n",
    "fig = plt.figure(figsize=(8,5))\n",
    "plt.loglog(ω,ŷ.real,label='real.',lw=1)\n",
    "plt.loglog(ω,ŷ.imag,label='imag.',lw=1)\n",
    "#plt.xlim(0,np.max(ω))\n",
    "#plt.xlim(1,10**5)\n",
    "#plt.ylim(-100000,100000)\n",
    "plt.xlabel('Frequency [rad/s]')\n",
    "plt.ylabel('Transform [arb.]')\n",
    "plt.legend(loc='lower right')"
   ]
  },
  {
   "cell_type": "code",
   "execution_count": null,
   "metadata": {
    "collapsed": true
   },
   "outputs": [],
   "source": []
  },
  {
   "cell_type": "code",
   "execution_count": null,
   "metadata": {
    "collapsed": true
   },
   "outputs": [],
   "source": []
  },
  {
   "cell_type": "code",
   "execution_count": null,
   "metadata": {
    "collapsed": true
   },
   "outputs": [],
   "source": []
  }
 ],
 "metadata": {
  "anaconda-cloud": {},
  "kernelspec": {
   "display_name": "Python [Root]",
   "language": "python",
   "name": "Python [Root]"
  },
  "language_info": {
   "codemirror_mode": {
    "name": "ipython",
    "version": 3
   },
   "file_extension": ".py",
   "mimetype": "text/x-python",
   "name": "python",
   "nbconvert_exporter": "python",
   "pygments_lexer": "ipython3",
   "version": "3.5.4"
  }
 },
 "nbformat": 4,
 "nbformat_minor": 2
}
