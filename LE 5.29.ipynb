{
 "cells": [
  {
   "cell_type": "code",
   "execution_count": 13,
   "metadata": {},
   "outputs": [],
   "source": [
    "import matplotlib.pyplot as plt\n",
    "import numpy as np\n",
    "from mpl_toolkits.mplot3d import Axes3D\n",
    "%matplotlib inline\n",
    "plt.style.use('/Users/summer/desktop/notebook.mplstyle');\n",
    "%config InlineBackend.figure_format = 'retina'\n",
    "colors = [\"#2078B5\", \"#FF7F0F\", \"#2CA12C\", \"#D72827\", \"#9467BE\", \"#8C574B\",\n",
    "            \"#E478C2\", \"#808080\", \"#BCBE20\", \"#17BED0\", \"#AEC8E9\", \"#FFBC79\", \n",
    "            \"#98E08B\", \"#FF9896\", \"#C6B1D6\", \"#C59D94\", \"#F8B7D3\", \"#C8C8C8\", \n",
    "           \"#DCDC8E\", \"#9EDAE6\"]"
   ]
  },
  {
   "cell_type": "code",
   "execution_count": 14,
   "metadata": {},
   "outputs": [],
   "source": [
    "F = 14\n",
    "c = 10\n",
    "b = 10\n",
    "h = 1\n",
    "dt = 0.001\n",
    "totstep = 500\n",
    "Jmax = 51\n",
    "Imax = 51\n",
    "I=4\n",
    "J=4\n",
    "\n",
    "ST = 1000"
   ]
  },
  {
   "cell_type": "code",
   "execution_count": 15,
   "metadata": {},
   "outputs": [],
   "source": [
    "x = np.load('xlisttxt.npy')\n",
    "y = np.load('ylisttxt.npy')\n",
    "#x = np.random.rand(I)\n",
    "#y = np.random.rand(J,I)"
   ]
  },
  {
   "cell_type": "code",
   "execution_count": 16,
   "metadata": {},
   "outputs": [],
   "source": [
    "def lorenz96(xy,i,j):\n",
    "\n",
    "    xy_dot[i] = (xy[0:I][(i-1)%I] * (xy[0:I][(i+1)%I] - xy[0:I][(i-2)%I]) - xy[0:I][i%I] + F - h*c/b*(np.sum([xy[I::][i::I]])))    \n",
    "    xy_dot[I+j*I+i] = (c*b*xy[I:][((j+1)%J)*I+i]*(xy[I:][((j-1)%J)*I+i]-xy[I:][((j+2)%J)*I+i])-c*xy[I:][((j)%J)*I+i]+h*c/b*xy[0:I][i])\n",
    "\n",
    "    return xy_dot"
   ]
  },
  {
   "cell_type": "code",
   "execution_count": 17,
   "metadata": {},
   "outputs": [],
   "source": [
    "def RK4(xylist,step,i,j):\n",
    "    \n",
    "    oldxy = xylist[((I+J*I)*(step-1)):((I+J*I)*(step))]\n",
    "    k1 = dt*lorenz96(oldxy,i,j)\n",
    "    k2 = dt*lorenz96(oldxy + k1*0.5*dt,i,j)\n",
    "    k3 = dt*lorenz96(oldxy + k2*0.5*dt,i,j)\n",
    "    k4 = dt*lorenz96(oldxy + k3*dt,i,j)\n",
    "\n",
    "    return oldxy + (k1 + 2*k2 + 2*k3 + k4)/6"
   ]
  },
  {
   "cell_type": "code",
   "execution_count": 18,
   "metadata": {},
   "outputs": [],
   "source": [
    "def J4LE(xnow,x4jj,y4jj,i):   \n",
    "\n",
    "    x4jj[(i)%I][(i)%I]  = (xnow[(i-1)%I] * (xnow[(i+1)%I] - xnow[(i-2)%I]) - 1 + F - h*c/b*(np.sum([y4jj[i::I]])))\n",
    "    x4jj[(i)%I][(i-1)%I]  = (xnow[(i+1)%I] - xnow[(i-2)%I]) - xnow[i%I] + F - h*c/b*(np.sum([y4jj[i::I]]))\n",
    "    x4jj[(i)%I][(i-2)%I]  = (xnow[(i-1)%I] * xnow[(i+1)%I] -  xnow[(i-2)%I]) - xnow[i%I] + F - h*c/b*(np.sum([y4jj[i::I]])) \n",
    "    x4jj[(i)%I][(i+1)%I]  = (xnow[(i-1)%I] - xnow[(i-1)%I] * xnow[(i-2)%I]) - xnow[i%I] + F - h*c/b*(np.sum([y4jj[i::I]])) \n",
    "    \n",
    "    #y4jj[j*I+i] = c*b*y4jj[((j+1)%J)*I+i]*(y4jj[((j-1)%J)*I+i]-y4jj[((j+2)%J)*I+i])-c*y4jj[((j)%J)*I+i]+h*c/b \n",
    "                                  \n",
    "    return x4jj                 "
   ]
  },
  {
   "cell_type": "code",
   "execution_count": 19,
   "metadata": {},
   "outputs": [],
   "source": [
    "def RK4JJ(xnow,x4jj,y4jj,i,j):\n",
    "    \n",
    "    k1 = dt*J4LE(xnow,x4jj, y4jj, i)\n",
    "    k2 = dt*J4LE(xnow,x4jj + k1*0.5*dt,y4jj, i)    \n",
    "    k3 = dt*J4LE(xnow,x4jj + k2*0.5*dt,y4jj, i)\n",
    "    k4 = dt*J4LE(xnow,x4jj + k3*dt ,y4jj, i)\n",
    "    \n",
    "    return x4jj + (k1 + 2*k2 + 2*k3 + k4)/6"
   ]
  },
  {
   "cell_type": "code",
   "execution_count": 20,
   "metadata": {},
   "outputs": [],
   "source": [
    "#m = len(x1)\n",
    "LE = np.zeros((Jmax-3,Imax-7))"
   ]
  },
  {
   "cell_type": "code",
   "execution_count": null,
   "metadata": {},
   "outputs": [],
   "source": [
    "#for I in np.arange(4,Imax,1):\n",
    "#    for J in np.arange(8,Jmax,1):\n",
    "xjj = np.zeros((I,I))\n",
    "yjj = np.zeros((I*J))\n",
    "xnow = np.zeros((I))\n",
    "\n",
    "slowxylist = np.zeros([(ST*totstep)*(I+J*I)])\n",
    "#xylist = np.zeros([(totstep)*(I+J*I)])\n",
    "newx=[]\n",
    "newlist = []\n",
    "\n",
    "for ii in range(I):\n",
    "    slowxylist[ii] = x[ii]\n",
    "\n",
    "newx.append([x[ii] for ii in range(len(x))])\n",
    "\n",
    "for jjj in range(J):\n",
    "    for iii in range(I):\n",
    "        slowxylist[I + jjj*I + iii] = y[jjj,iii]\n",
    "        \n",
    "for step in np.arange(1,totstep,1):   \n",
    "    for time in np.arange(1,ST,1):\n",
    "        xy_dot= np.zeros((I+J*I))\n",
    "        for i in range(I):\n",
    "            for j in range(J): \n",
    "                slowxylist[(I+J*I)*(time+ST*(step-1)):(I+J*I)*(time+1+ST*(step-1))] = RK4(slowxylist,time+ST*(step-1), i,j)\n",
    "                #xylist[(I+J*I)*(step):(I+J*I)*(step+1)] = RK4(xylist,step, i,j) \n",
    "                newlist = slowxylist[(I+J*I)*(time+ST*(step-1)):(I+J*I)*(time+1+ST*(step-1))][0:I]   \n",
    "                #newlist = xylist[(I+J*I)*(step):(I+J*I)*(step+1)][0:I] \n",
    "            newx.append([newlist[ij] for ij in range(len(newlist))])  \n",
    "            \n",
    "        #x1slow.append([newx[a][0] for a in range(len(newx))])       \n",
    "        #x2slow.append([newx[a][1] for a in range(len(newx))])\n",
    "        #x3slow.append([newx[a][2] for a in range(len(newx))])\n",
    "        #x4slow.append([newx[a][3] for a in range(len(newx))])\n",
    "        x1 = np.array([newx[a][0] for a in range(len(newx))])\n",
    "        x2 = np.array([newx[a][1] for a in range(len(newx))])\n",
    "        x3 = np.array([newx[a][2] for a in range(len(newx))])\n",
    "        x4 = np.array([newx[a][3] for a in range(len(newx))])\n",
    "        \n",
    "    #x1quick = np.array([x1slow[tt*(100)] for tt in range((len(x1slow))/(100))])       \n",
    "    #x2quick = np.array([x2slow[tt*(100)] for tt in range((len(x1slow))/(100))])   \n",
    "    #x3quick = np.array([x3slow[tt*(100)] for tt in range((len(x1slow))/(100))])   \n",
    "    #x4quick = np.array([x4slow[tt*(100)] for tt in range((len(x1slow))/(100))])      \n",
    "    \n",
    "    \n"
   ]
  },
  {
   "cell_type": "code",
   "execution_count": null,
   "metadata": {},
   "outputs": [],
   "source": [
    "fig = plt.figure(figsize=(10,8))\n",
    "#ax = fig.gca(projection='3d')\n",
    "ax = fig.add_subplot(111, projection='3d')\n",
    "ax.plot(-x2, x1, x3,lw=0.5)\n",
    "ax.set_xlabel(\"$x_2$\")\n",
    "ax.set_ylabel(\"$x_1$\")\n",
    "#plt.xlim(4, -12)\n",
    "ax.set_zlabel(\"$x_3$\")\n",
    "ax.set_title(\"Lorenz 1996 model\")\n",
    "plt.show()"
   ]
  },
  {
   "cell_type": "code",
   "execution_count": null,
   "metadata": {},
   "outputs": [],
   "source": [
    "fig = plt.figure(figsize=(10,8))\n",
    "#ax = fig.gca(projection='3d')\n",
    "ax = fig.add_subplot(111, projection='3d')\n",
    "ax.plot(-x2[380000:], x1[380000:], x3[380000:],lw=0.5)\n",
    "ax.set_xlabel(\"$x_2$\")\n",
    "ax.set_ylabel(\"$x_1$\")\n",
    "#plt.xlim(4, -12)\n",
    "ax.set_zlabel(\"$x_3$\")\n",
    "ax.set_title(\"Lorenz 1996 model\")\n",
    "plt.show()"
   ]
  },
  {
   "cell_type": "code",
   "execution_count": null,
   "metadata": {},
   "outputs": [],
   "source": [
    "\n",
    "        for c in range(I*J):\n",
    "            yjj[c] = xylist[(I+J*I)*(step-1):(I+J*I)*(step)][I:][c]\n",
    "        for a in range(I):\n",
    "            xnow[a] = xylist[(I+J*I)*(step-1):(I+J*I)*(step)][0:I][a]\n",
    "            xjj[a,:] = xylist[(I+J*I)*(step-1):(I+J*I)*(step)][0:I][a]\n",
    "        for iii in range(I):\n",
    "            xjj = J4LE(xnow,xjj,yjj,iii) # at this time \n",
    "        print(xjj)\n",
    "\n",
    "        \n",
    "        \n",
    "        DF1 = RK4JJ(Jt,DF1,Df,i)\n",
    "\n",
    "\n",
    "    \n",
    "        "
   ]
  },
  {
   "cell_type": "code",
   "execution_count": null,
   "metadata": {},
   "outputs": [],
   "source": [
    "def LEcalc(x1,x4jj):\n",
    "    \n",
    "    z = np.identity(m)\n",
    "    #Jt = A*x    for DF1, A： current Df\n",
    "    \n",
    "    for i in range(N):\n",
    "        DF1 = np.identity(m)\n",
    "        \n",
    "        for step in np.arange(1,1/dt,1):    \n",
    "            DF1 = RK4JJ(Jt,DF1,Df,i)\n",
    "            \n",
    "            #maybe should add time phase for x1 during x1 to parellal moving with JACOBIAN\n",
    "    \n",
    "        Z = DF1*q\n",
    "        q, r = qr(Z) = np.linalg.qr(Z)\n",
    "        #LE[]= LE[] + np.log(np.amax(np.absolute(np.diag(r))))/(N)\n",
    "        LE = LE + log(abs(diag(r)))/totstep\n",
    "        \n",
    "    return LE"
   ]
  },
  {
   "cell_type": "code",
   "execution_count": null,
   "metadata": {},
   "outputs": [],
   "source": [
    "m = length(xnow)\n",
    "LE = zeros(m,1)\n",
    "v = v0;\n",
    "\n",
    "q = eye(m)\n",
    "Jt = @(x,A) A*x     % ode for DF1, 'A' will be current Df\n",
    "% Jacobian Df is jj\n",
    "\n",
    "for i=1:N\n",
    "    DF = eye(m)     % initialize derivative of time-1 map\n",
    "    for j = 1:1/tstep\n",
    "\n",
    "        DF = stepit(Jt,DF,Df(v,param),tstep)\n",
    "        v = stepit(f,v,param,tstep)\n",
    "        \n",
    "    Z = DF1*q\n",
    "    [q,r] = qr(Z)\n",
    "    LE = LE + log(abs(diag(r)))/N\n",
    "%LE = LE/N;\n",
    "\n",
    "LEcalc(f,Df,x(:,end))"
   ]
  },
  {
   "cell_type": "code",
   "execution_count": null,
   "metadata": {},
   "outputs": [],
   "source": [
    "print(LE)          \n",
    "plt.imshow(LE, cmap=plt.cm.jet)\n",
    "cb = plt.colorbar(label='LE', pad=0.1)\n",
    "plt.axes().set_aspect('equal')\n",
    "plt.show()"
   ]
  },
  {
   "cell_type": "code",
   "execution_count": null,
   "metadata": {},
   "outputs": [],
   "source": [
    "def LEcalc(x1,x4jj):\n",
    "    q = np.identity(m)\n",
    "    #Jt = A*x    for DF1, A： current Df\n",
    "    \n",
    "    for i in range(N):\n",
    "        DF1 = np.identity(m)\n",
    "        \n",
    "        for step in np.arange(1,totstep,1):    \n",
    "            #DF1 = RK4JJ(Jt,DF1,Df,i,j)\n",
    "            #maybe should add time phase for x1 during x1 to parellal moving with JACOBIAN\n",
    "    \n",
    "        Z = DF1*q\n",
    "        q, r = qr(Z) = np.linalg.qr(Z)\n",
    "        #LE[]= LE[] + np.log(np.amax(np.absolute(np.diag(r))))/(N)\n",
    "        LE = LE + log(abs(diag(r)))/totstep\n",
    "        \n",
    "        \n",
    "    return LE"
   ]
  },
  {
   "cell_type": "code",
   "execution_count": null,
   "metadata": {},
   "outputs": [],
   "source": [
    "#m = len(x1)\n",
    "#N = 10000\n",
    "#LE = np.zeros(m)\n",
    "#v = x1\n",
    "#LE = np.zeros((Jmax-4,Imax-4))"
   ]
  },
  {
   "cell_type": "code",
   "execution_count": null,
   "metadata": {},
   "outputs": [],
   "source": [
    "[LE] = LEcalc(f,Df,v0)\n",
    "\n",
    "m = length(v0);\n",
    "N = 10000;\n",
    "LE = zeros(m,1);\n",
    "v = v0;\n",
    "\n",
    "q = eye(m);\n",
    "Jt = @(x,A) A*x; % ode for DF1, 'A' will be current Df\n",
    "% Jacobian\n",
    "Df is jj\n",
    "\n",
    "for i=1:N\n",
    "    DF1 = eye(m); % initialize derivative of time-1 map\n",
    "    for j = 1:1/tstep\n",
    "\n",
    "        DF1 = stepit(Jt,DF,Df(v,param),tstep);\t% 3 x 3 matrix\n",
    "        v = stepit(f,v,param,tstep);\n",
    "        \n",
    "    Z = DF1*q;\n",
    "    [q,r] = qr(Z);\n",
    "    LE = LE + log(abs(diag(r)))/N;\n",
    "%LE = LE/N;\n",
    "\n",
    "LEcalc(f,Df,x(:,end))\n"
   ]
  }
 ],
 "metadata": {
  "kernelspec": {
   "display_name": "Python 3",
   "language": "python",
   "name": "python3"
  },
  "language_info": {
   "codemirror_mode": {
    "name": "ipython",
    "version": 3
   },
   "file_extension": ".py",
   "mimetype": "text/x-python",
   "name": "python",
   "nbconvert_exporter": "python",
   "pygments_lexer": "ipython3",
   "version": "3.6.4"
  }
 },
 "nbformat": 4,
 "nbformat_minor": 2
}
