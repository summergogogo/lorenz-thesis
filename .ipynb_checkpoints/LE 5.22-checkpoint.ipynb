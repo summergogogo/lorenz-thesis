{
 "cells": [
  {
   "cell_type": "code",
   "execution_count": 76,
   "metadata": {},
   "outputs": [],
   "source": [
    "import matplotlib.pyplot as plt\n",
    "import numpy as np\n",
    "from mpl_toolkits.mplot3d import Axes3D\n",
    "%matplotlib inline\n",
    "plt.style.use('/Users/summer/desktop/notebook.mplstyle');\n",
    "%config InlineBackend.figure_format = 'retina'\n",
    "colors = [\"#2078B5\", \"#FF7F0F\", \"#2CA12C\", \"#D72827\", \"#9467BE\", \"#8C574B\",\n",
    "            \"#E478C2\", \"#808080\", \"#BCBE20\", \"#17BED0\", \"#AEC8E9\", \"#FFBC79\", \n",
    "            \"#98E08B\", \"#FF9896\", \"#C6B1D6\", \"#C59D94\", \"#F8B7D3\", \"#C8C8C8\", \n",
    "           \"#DCDC8E\", \"#9EDAE6\"]"
   ]
  },
  {
   "cell_type": "code",
   "execution_count": 77,
   "metadata": {},
   "outputs": [],
   "source": [
    "F = 14\n",
    "c = 10\n",
    "b = 10\n",
    "h = 1\n",
    "dt = 0.0001\n",
    "totstep = 2\n",
    "Jmax = 51\n",
    "Imax = 51\n",
    "I=4\n",
    "J=4"
   ]
  },
  {
   "cell_type": "code",
   "execution_count": 78,
   "metadata": {},
   "outputs": [],
   "source": [
    "x = np.load('xlisttxt.npy')\n",
    "y = np.load('ylisttxt.npy')\n",
    "#x = np.random.rand(I)\n",
    "#y = np.random.rand(J,I)"
   ]
  },
  {
   "cell_type": "code",
   "execution_count": 79,
   "metadata": {},
   "outputs": [],
   "source": [
    "def lorenz96(xy,i,j):\n",
    "\n",
    "    xy_dot[i] = (xy[0:I][(i-1)%I] * (xy[0:I][(i+1)%I] - xy[0:I][(i-2)%I]) - xy[0:I][i%I] + F - h*c/b*(np.sum([xy[I::][i::I]])))    \n",
    "    xy_dot[I+j*I+i] = (c*b*xy[I:][((j+1)%J)*I+i]*(xy[I:][((j-1)%J)*I+i]-xy[I:][((j+2)%J)*I+i])-c*xy[I:][((j)%J)*I+i]+h*c/b*xy[0:I][i])\n",
    "\n",
    "    return xy_dot"
   ]
  },
  {
   "cell_type": "code",
   "execution_count": 80,
   "metadata": {},
   "outputs": [],
   "source": [
    "def RK4(xylist,step,i,j):\n",
    "    \n",
    "    oldxy = xylist[((I+J*I)*(step-1)):((I+J*I)*(step))]\n",
    "    k1 = dt*lorenz96(oldxy,i,j)\n",
    "    k2 = dt*lorenz96(oldxy + k1*0.5*dt,i,j)\n",
    "    k3 = dt*lorenz96(oldxy + k2*0.5*dt,i,j)\n",
    "    k4 = dt*lorenz96(oldxy + k3*dt,i,j)\n",
    "\n",
    "    return oldxy + (k1 + 2*k2 + 2*k3 + k4)/6"
   ]
  },
  {
   "cell_type": "code",
   "execution_count": 81,
   "metadata": {},
   "outputs": [],
   "source": [
    "def J4LE(xnow,x4jj,y4jj,i):   \n",
    "\n",
    "    x4jj[(i)%I][(i)%I]  = (xnow[(i-1)%I] * (xnow[(i+1)%I] - xnow[(i-2)%I]) - 1 + F - h*c/b*(np.sum([y4jj[i::I]])))\n",
    "    x4jj[(i)%I][(i-1)%I]  = (xnow[(i+1)%I] - xnow[(i-2)%I]) - xnow[i%I] + F - h*c/b*(np.sum([y4jj[i::I]]))\n",
    "    x4jj[(i)%I][(i-2)%I]  = (xnow[(i-1)%I] * xnow[(i+1)%I] -  xnow[(i-2)%I]) - xnow[i%I] + F - h*c/b*(np.sum([y4jj[i::I]])) \n",
    "    x4jj[(i)%I][(i+1)%I]  = (xnow[(i-1)%I] - xnow[(i-1)%I] * xnow[(i-2)%I]) - xnow[i%I] + F - h*c/b*(np.sum([y4jj[i::I]])) \n",
    "    \n",
    "    #y4jj[j*I+i] = c*b*y4jj[((j+1)%J)*I+i]*(y4jj[((j-1)%J)*I+i]-y4jj[((j+2)%J)*I+i])-c*y4jj[((j)%J)*I+i]+h*c/b \n",
    "                                  \n",
    "    return x4jj                 "
   ]
  },
  {
   "cell_type": "code",
   "execution_count": 88,
   "metadata": {},
   "outputs": [],
   "source": [
    "def RK4JJ(xnow,x4jj,y4jj,i,j):\n",
    "    \n",
    "    k1 = dt*J4LE(xnow,x4jj, y4jj, i)\n",
    "    k2 = dt*J4LE(xnow,x4jj + k1*0.5*dt,y4jj, i)    \n",
    "    k3 = dt*J4LE(xnow,x4jj + k2*0.5*dt,y4jj, i)\n",
    "    k4 = dt*J4LE(xnow,x4jj + k3*dt ,y4jj, i)\n",
    "    \n",
    "    return x4jj + (k1 + 2*k2 + 2*k3 + k4)/6"
   ]
  },
  {
   "cell_type": "code",
   "execution_count": 89,
   "metadata": {},
   "outputs": [],
   "source": [
    "#m = len(x1)\n",
    "LE = np.zeros((Jmax-3,Imax-7))"
   ]
  },
  {
   "cell_type": "code",
   "execution_count": 94,
   "metadata": {},
   "outputs": [
    {
     "name": "stdout",
     "output_type": "stream",
     "text": [
      "[[0.06326007914970078, 0.9114241431540494, 0.031216996094494465, 0.7479707658277304], [0.06436490052918929, 0.9114241431540494, 0.031216996094494465, 0.7479707658277304], [0.06436490056904162, 0.9125748550308732, 0.031216996094494465, 0.7479707658277304], [0.06436490056904162, 0.9125748550378382, 0.03232065350780454, 0.7479707658277304], [0.06436490056904162, 0.9125748550378382, 0.03232065358578538, 0.7490305486891693]]\n",
      "\n",
      "[0.06326008 0.0643649  0.0643649  0.0643649  0.0643649 ]\n",
      "\n",
      "[[10.11147348 11.11446555 11.0403458  11.27005133]\n",
      " [10.83570683 11.41854284 11.56840399 10.80646462]\n",
      " [11.03097004 11.09722219 10.06779035 11.26627888]\n",
      " [10.62707103  9.7148566   9.77614189 10.34579959]]\n"
     ]
    }
   ],
   "source": [
    "#for I in np.arange(4,Imax,1):\n",
    "#    for J in np.arange(8,Jmax,1):\n",
    "\n",
    "xjj = np.zeros((I,I))\n",
    "#yjj = []\n",
    "yjj=np.zeros((I*J))\n",
    "xnow = np.zeros((I))\n",
    "\n",
    "xylist = np.zeros([(totstep)*(I+J*I)])\n",
    "#s=0\n",
    "newx=[]\n",
    "newlist = []\n",
    "#time=[0]\n",
    "\n",
    "for ii in range(I):\n",
    "    xylist[ii] = x[ii]\n",
    "\n",
    "newx.append([x[ii] for ii in range(len(x))])\n",
    "#print(newx)\n",
    "\n",
    "for jjj in range(J):\n",
    "    for iii in range(I):\n",
    "        xylist[I + jjj*I + iii] = y[jjj,iii]\n",
    "\n",
    "#for step in np.arange(1,totstep,1):   \n",
    "for step in np.arange(1,totstep,1):\n",
    "    xy_dot= np.zeros((I+J*I))\n",
    "    for i in range(I):\n",
    "        #s+=1\n",
    "        #time.append(s)\n",
    "        for j in range(J):\n",
    "            xylist[(I+J*I)*(step):(I+J*I)*(step+1)] = RK4(xylist,step, i,j) \n",
    "            newlist = xylist[(I+J*I)*(step):(I+J*I)*(step+1)][0:I]     \n",
    "        newx.append([newlist[ij] for ij in range(len(newlist))])\n",
    "    print(newx)\n",
    "    print()\n",
    "    x1 = np.array([newx[a][0] for a in range(len(newx))])\n",
    "    print(x1)\n",
    "    print()\n",
    "    \n",
    "    for c in range(I*J):\n",
    "        yjj[c] = xylist[(I+J*I)*(step-1):(I+J*I)*(step)][I:][c]\n",
    "    for a in range(I):\n",
    "        xnow[a] = xylist[(I+J*I)*(step-1):(I+J*I)*(step)][0:I][a]\n",
    "        xjj[a,:] = xylist[(I+J*I)*(step-1):(I+J*I)*(step)][0:I][a]\n",
    "    for iii in range(I):\n",
    "        xjj = J4LE(xnow,xjj,yjj,iii) # at this time \n",
    "    print(xjj)\n",
    "    \n",
    "    \n",
    "    \n",
    "        \n",
    "    \n",
    "        "
   ]
  },
  {
   "cell_type": "code",
   "execution_count": null,
   "metadata": {},
   "outputs": [],
   "source": [
    "def LEcalc(x1,x4jj):\n",
    "    \n",
    "    z = np.identity(m)\n",
    "    #Jt = A*x    for DF1, A： current Df\n",
    "    \n",
    "    for i in range(N):\n",
    "        DF1 = np.identity(m)\n",
    "        \n",
    "        for step in np.arange(1,1/dt,1):    \n",
    "            DF1 = RK4JJ(Jt,DF1,Df,i)\n",
    "            \n",
    "            #maybe should add time phase for x1 during x1 to parellal moving with JACOBIAN\n",
    "    \n",
    "        Z = DF1*q\n",
    "        q, r = qr(Z) = np.linalg.qr(Z)\n",
    "        #LE[]= LE[] + np.log(np.amax(np.absolute(np.diag(r))))/(N)\n",
    "        LE = LE + log(abs(diag(r)))/totstep\n",
    "        \n",
    "    return LE"
   ]
  },
  {
   "cell_type": "code",
   "execution_count": null,
   "metadata": {},
   "outputs": [],
   "source": [
    "m = length(xnow)\n",
    "LE = zeros(m,1)\n",
    "v = v0;\n",
    "\n",
    "q = eye(m)\n",
    "Jt = @(x,A) A*x     % ode for DF1, 'A' will be current Df\n",
    "% Jacobian Df is jj\n",
    "\n",
    "for i=1:N\n",
    "    DF = eye(m)     % initialize derivative of time-1 map\n",
    "    for j = 1:1/tstep\n",
    "\n",
    "        DF = stepit(Jt,DF,Df(v,param),tstep)\n",
    "        v = stepit(f,v,param,tstep)\n",
    "        \n",
    "    Z = DF1*q\n",
    "    [q,r] = qr(Z)\n",
    "    LE = LE + log(abs(diag(r)))/N\n",
    "%LE = LE/N;\n",
    "\n",
    "LEcalc(f,Df,x(:,end))"
   ]
  },
  {
   "cell_type": "code",
   "execution_count": 49,
   "metadata": {
    "collapsed": true
   },
   "outputs": [
    {
     "ename": "NameError",
     "evalue": "name 'LE' is not defined",
     "output_type": "error",
     "traceback": [
      "\u001b[0;31m---------------------------------------------------------------------------\u001b[0m",
      "\u001b[0;31mNameError\u001b[0m                                 Traceback (most recent call last)",
      "\u001b[0;32m<ipython-input-49-156aebacfcc5>\u001b[0m in \u001b[0;36m<module>\u001b[0;34m()\u001b[0m\n\u001b[0;32m----> 1\u001b[0;31m \u001b[0mprint\u001b[0m\u001b[0;34m(\u001b[0m\u001b[0mLE\u001b[0m\u001b[0;34m)\u001b[0m\u001b[0;34m\u001b[0m\u001b[0m\n\u001b[0m\u001b[1;32m      2\u001b[0m \u001b[0mplt\u001b[0m\u001b[0;34m.\u001b[0m\u001b[0mimshow\u001b[0m\u001b[0;34m(\u001b[0m\u001b[0mLE\u001b[0m\u001b[0;34m,\u001b[0m \u001b[0mcmap\u001b[0m\u001b[0;34m=\u001b[0m\u001b[0mplt\u001b[0m\u001b[0;34m.\u001b[0m\u001b[0mcm\u001b[0m\u001b[0;34m.\u001b[0m\u001b[0mjet\u001b[0m\u001b[0;34m)\u001b[0m\u001b[0;34m\u001b[0m\u001b[0m\n\u001b[1;32m      3\u001b[0m \u001b[0mcb\u001b[0m \u001b[0;34m=\u001b[0m \u001b[0mplt\u001b[0m\u001b[0;34m.\u001b[0m\u001b[0mcolorbar\u001b[0m\u001b[0;34m(\u001b[0m\u001b[0mlabel\u001b[0m\u001b[0;34m=\u001b[0m\u001b[0;34m'LE'\u001b[0m\u001b[0;34m,\u001b[0m \u001b[0mpad\u001b[0m\u001b[0;34m=\u001b[0m\u001b[0;36m0.1\u001b[0m\u001b[0;34m)\u001b[0m\u001b[0;34m\u001b[0m\u001b[0m\n\u001b[1;32m      4\u001b[0m \u001b[0mplt\u001b[0m\u001b[0;34m.\u001b[0m\u001b[0maxes\u001b[0m\u001b[0;34m(\u001b[0m\u001b[0;34m)\u001b[0m\u001b[0;34m.\u001b[0m\u001b[0mset_aspect\u001b[0m\u001b[0;34m(\u001b[0m\u001b[0;34m'equal'\u001b[0m\u001b[0;34m)\u001b[0m\u001b[0;34m\u001b[0m\u001b[0m\n\u001b[1;32m      5\u001b[0m \u001b[0mplt\u001b[0m\u001b[0;34m.\u001b[0m\u001b[0mshow\u001b[0m\u001b[0;34m(\u001b[0m\u001b[0;34m)\u001b[0m\u001b[0;34m\u001b[0m\u001b[0m\n",
      "\u001b[0;31mNameError\u001b[0m: name 'LE' is not defined"
     ]
    }
   ],
   "source": [
    "print(LE)          \n",
    "plt.imshow(LE, cmap=plt.cm.jet)\n",
    "cb = plt.colorbar(label='LE', pad=0.1)\n",
    "plt.axes().set_aspect('equal')\n",
    "plt.show()"
   ]
  },
  {
   "cell_type": "code",
   "execution_count": 11,
   "metadata": {
    "collapsed": true
   },
   "outputs": [
    {
     "ename": "IndentationError",
     "evalue": "expected an indented block (<ipython-input-11-b5fecbc7a5ee>, line 12)",
     "output_type": "error",
     "traceback": [
      "\u001b[0;36m  File \u001b[0;32m\"<ipython-input-11-b5fecbc7a5ee>\"\u001b[0;36m, line \u001b[0;32m12\u001b[0m\n\u001b[0;31m    Z = DF1*q\u001b[0m\n\u001b[0m    ^\u001b[0m\n\u001b[0;31mIndentationError\u001b[0m\u001b[0;31m:\u001b[0m expected an indented block\n"
     ]
    }
   ],
   "source": [
    "def LEcalc(x1,x4jj):\n",
    "    q = np.identity(m)\n",
    "    #Jt = A*x    for DF1, A： current Df\n",
    "    \n",
    "    for i in range(N):\n",
    "        DF1 = np.identity(m)\n",
    "        \n",
    "        for step in np.arange(1,totstep,1):    \n",
    "            #DF1 = RK4JJ(Jt,DF1,Df,i,j)\n",
    "            #maybe should add time phase for x1 during x1 to parellal moving with JACOBIAN\n",
    "    \n",
    "        Z = DF1*q\n",
    "        q, r = qr(Z) = np.linalg.qr(Z)\n",
    "        #LE[]= LE[] + np.log(np.amax(np.absolute(np.diag(r))))/(N)\n",
    "        LE = LE + log(abs(diag(r)))/totstep\n",
    "        \n",
    "        \n",
    "    return LE"
   ]
  },
  {
   "cell_type": "code",
   "execution_count": null,
   "metadata": {},
   "outputs": [],
   "source": [
    "#m = len(x1)\n",
    "#N = 10000\n",
    "#LE = np.zeros(m)\n",
    "#v = x1\n",
    "#LE = np.zeros((Jmax-4,Imax-4))"
   ]
  },
  {
   "cell_type": "code",
   "execution_count": null,
   "metadata": {},
   "outputs": [],
   "source": [
    "[LE] = LEcalc(f,Df,v0)\n",
    "\n",
    "m = length(v0);\n",
    "N = 10000;\n",
    "LE = zeros(m,1);\n",
    "v = v0;\n",
    "\n",
    "q = eye(m);\n",
    "Jt = @(x,A) A*x; % ode for DF1, 'A' will be current Df\n",
    "% Jacobian\n",
    "Df is jj\n",
    "\n",
    "for i=1:N\n",
    "    DF1 = eye(m); % initialize derivative of time-1 map\n",
    "    for j = 1:1/tstep\n",
    "\n",
    "        DF1 = stepit(Jt,DF,Df(v,param),tstep);\t% 3 x 3 matrix\n",
    "        v = stepit(f,v,param,tstep);\n",
    "        \n",
    "    Z = DF1*q;\n",
    "    [q,r] = qr(Z);\n",
    "    LE = LE + log(abs(diag(r)))/N;\n",
    "%LE = LE/N;\n",
    "\n",
    "LEcalc(f,Df,x(:,end))\n"
   ]
  }
 ],
 "metadata": {
  "kernelspec": {
   "display_name": "Python 3",
   "language": "python",
   "name": "python3"
  },
  "language_info": {
   "codemirror_mode": {
    "name": "ipython",
    "version": 3
   },
   "file_extension": ".py",
   "mimetype": "text/x-python",
   "name": "python",
   "nbconvert_exporter": "python",
   "pygments_lexer": "ipython3",
   "version": "3.6.4"
  }
 },
 "nbformat": 4,
 "nbformat_minor": 2
}
