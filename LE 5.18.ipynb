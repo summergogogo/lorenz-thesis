{
 "cells": [
  {
   "cell_type": "code",
   "execution_count": 20,
   "metadata": {},
   "outputs": [],
   "source": [
    "import matplotlib.pyplot as plt\n",
    "import numpy as np\n",
    "from mpl_toolkits.mplot3d import Axes3D\n",
    "%matplotlib inline\n",
    "plt.style.use('/Users/summer/desktop/notebook.mplstyle');\n",
    "%config InlineBackend.figure_format = 'retina'\n",
    "colors = [\"#2078B5\", \"#FF7F0F\", \"#2CA12C\", \"#D72827\", \"#9467BE\", \"#8C574B\",\n",
    "            \"#E478C2\", \"#808080\", \"#BCBE20\", \"#17BED0\", \"#AEC8E9\", \"#FFBC79\", \n",
    "            \"#98E08B\", \"#FF9896\", \"#C6B1D6\", \"#C59D94\", \"#F8B7D3\", \"#C8C8C8\", \n",
    "           \"#DCDC8E\", \"#9EDAE6\"]"
   ]
  },
  {
   "cell_type": "code",
   "execution_count": 21,
   "metadata": {},
   "outputs": [],
   "source": [
    "x = np.load('xlisttxt.npy')\n",
    "y = np.load('ylisttxt.npy')"
   ]
  },
  {
   "cell_type": "code",
   "execution_count": 22,
   "metadata": {},
   "outputs": [],
   "source": [
    "def lorenz96(xy,i,j):\n",
    "\n",
    "    xy_dot[i] = (xy[0:I][(i-1)%I] * (xy[0:I][(i+1)%I] - xy[0:I][(i-2)%I]) - xy[0:I][i%I] + F - h*c/b*(np.sum([xy[I::][i::I]])))    \n",
    "    xy_dot[I+j*I+i] = (c*b*xy[I:][((j+1)%J)*I+i]*(xy[I:][((j-1)%J)*I+i]-xy[I:][((j+2)%J)*I+i])-c*xy[I:][((j)%J)*I+i]+h*c/b*xy[0:I][i])\n",
    "\n",
    "    return xy_dot"
   ]
  },
  {
   "cell_type": "code",
   "execution_count": 23,
   "metadata": {},
   "outputs": [],
   "source": [
    "def RK4(xylist,step,i,j):\n",
    "    \n",
    "    oldxy = xylist[((I+J*I)*(step-1)):((I+J*I)*(step))]\n",
    "    k1 = dt*lorenz96(oldxy,i,j)\n",
    "    k2 = dt*lorenz96(oldxy + k1*0.5*dt,i,j)\n",
    "    k3 = dt*lorenz96(oldxy + k2*0.5*dt,i,j)\n",
    "    k4 = dt*lorenz96(oldxy + k3*dt,i,j)\n",
    "\n",
    "    return oldxy + (k1 + 2*k2 + 2*k3 + k4)/6"
   ]
  },
  {
   "cell_type": "code",
   "execution_count": 24,
   "metadata": {},
   "outputs": [],
   "source": [
    "def J4LE(xnow,x4jj,y4jj,i):   \n",
    "      \n",
    "    x4jj[(i)%I][(i)%I]  = (xnow[(i-1)%I] * (xnow[(i+1)%I] - xnow[(i-2)%I]) - 1 + F - h*c/b*(np.sum([y4jj[i::I]])))\n",
    "    x4jj[(i)%I][(i-1)%I]  = (xnow[(i+1)%I] - xnow[(i-2)%I]) - xnow[i%I] + F - h*c/b*(np.sum([y4jj[i::I]]))\n",
    "    x4jj[(i)%I][(i-2)%I]  = (xnow[(i-1)%I] * xnow[(i+1)%I] -  xnow[(i-2)%I]) - xnow[i%I] + F - h*c/b*(np.sum([y4jj[i::I]])) \n",
    "    x4jj[(i)%I][(i+1)%I]  = (xnow[(i-1)%I] - xnow[(i-1)%I] * xnow[(i-2)%I]) - xnow[i%I] + F - h*c/b*(np.sum([y4jj[i::I]])) \n",
    "    \n",
    "    #y4jj[j*I+i] = c*b*y4jj[((j+1)%J)*I+i]*(y4jj[((j-1)%J)*I+i]-y4jj[((j+2)%J)*I+i])-c*y4jj[((j)%J)*I+i]+h*c/b \n",
    "                                  \n",
    "    return x4jj                 "
   ]
  },
  {
   "cell_type": "code",
   "execution_count": 25,
   "metadata": {},
   "outputs": [],
   "source": [
    "def RK4JJ(xnow,x4jj,y4jj,i,j):\n",
    "    \n",
    "    k1 = dt*J4LE(xnow,x4jj, y4jj, i, j)\n",
    "    k2 = dt*J4LE(xnow,x4jj + k1*0.5*dt,y4jj, i, j)    \n",
    "    k3 = dt*J4LE(xnow,x4jj + k2*0.5*dt,y4jj, i, j)\n",
    "    k4 = dt*J4LE(xnow,x4jj + k3*dt ,y4jj, i, j)\n",
    "    \n",
    "    return x4jj + (k1 + 2*k2 + 2*k3 + k4)/6"
   ]
  },
  {
   "cell_type": "code",
   "execution_count": 26,
   "metadata": {},
   "outputs": [],
   "source": [
    "F = 14\n",
    "c = 10\n",
    "b = 10\n",
    "h = 1\n",
    "dt = 0.0001\n",
    "totstep = 200000\n",
    "Jmax = 51\n",
    "Imax = 51"
   ]
  },
  {
   "cell_type": "code",
   "execution_count": 30,
   "metadata": {},
   "outputs": [],
   "source": [
    "#m = len(x1)\n",
    "#N = 10000\n",
    "#LE = np.zeros(m)\n",
    "#v = x1\n",
    "#LE = np.zeros((Jmax-4,Imax-4))"
   ]
  },
  {
   "cell_type": "code",
   "execution_count": 32,
   "metadata": {},
   "outputs": [
    {
     "name": "stdout",
     "output_type": "stream",
     "text": [
      "[[0. 0. 0. 0. 0. 0.]\n",
      " [0. 0. 0. 0. 0. 0.]\n",
      " [0. 0. 0. 0. 0. 0.]\n",
      " [0. 0. 0. 0. 0. 0.]\n",
      " [0. 0. 0. 0. 0. 0.]\n",
      " [0. 0. 0. 0. 0. 0.]]\n"
     ]
    }
   ],
   "source": [
    "xjj = np.zeros((10-4,10-4))\n",
    "print(xjj)"
   ]
  },
  {
   "cell_type": "code",
   "execution_count": null,
   "metadata": {},
   "outputs": [],
   "source": [
    "def LEcalc(x1,x4jj):\n",
    "\n",
    "    q = np.identity(m)\n",
    "\n",
    "    #JJ= J4LE(xy,i,j) unfinish\n",
    "    #Jt = A*x    for DF1, A： current Df\n",
    "\n",
    "    for i in range(N):\n",
    "\n",
    "        DF1 = q = np.identity(m)\n",
    "        \n",
    "        for step in np.arange(1,totstep,1):\n",
    "            \n",
    "            #DF1 = RK4JJ(Jt,DF1,Df,i,j)\n",
    "            #maybe should add time phase for x1 during x1 to parellal moving with JACOBIAN\n",
    "    \n",
    "        Z = DF1*q\n",
    "        [q,r] = np.linalg.qr(Z)\n",
    "        #LE[]= LE[] + np.log(np.amax(np.absolute(np.diag(r))))/(N)\n",
    "        #LE = LE + log(abs(diag(r)))/N;"
   ]
  },
  {
   "cell_type": "code",
   "execution_count": null,
   "metadata": {},
   "outputs": [],
   "source": []
  },
  {
   "cell_type": "code",
   "execution_count": 31,
   "metadata": {},
   "outputs": [
    {
     "name": "stdout",
     "output_type": "stream",
     "text": [
      "[[0.06326007914970078, 0.9114241431540494, 0.031216996094494465, 0.7479707658277304]]\n"
     ]
    },
    {
     "ename": "NameError",
     "evalue": "name 'xnow' is not defined",
     "output_type": "error",
     "traceback": [
      "\u001b[0;31m---------------------------------------------------------------------------\u001b[0m",
      "\u001b[0;31mNameError\u001b[0m                                 Traceback (most recent call last)",
      "\u001b[0;32m<ipython-input-31-61d16fb95672>\u001b[0m in \u001b[0;36m<module>\u001b[0;34m()\u001b[0m\n\u001b[1;32m     36\u001b[0m                 \u001b[0;31m#xjj = np.zeros((I-4,I-4))\u001b[0m\u001b[0;34m\u001b[0m\u001b[0;34m\u001b[0m\u001b[0m\n\u001b[1;32m     37\u001b[0m                 \u001b[0;31m#yjj = []\u001b[0m\u001b[0;34m\u001b[0m\u001b[0;34m\u001b[0m\u001b[0m\n\u001b[0;32m---> 38\u001b[0;31m                 \u001b[0mxjj\u001b[0m \u001b[0;34m=\u001b[0m \u001b[0mJ4LE\u001b[0m\u001b[0;34m(\u001b[0m\u001b[0mxnow\u001b[0m\u001b[0;34m,\u001b[0m\u001b[0mxjj\u001b[0m\u001b[0;34m,\u001b[0m\u001b[0my4jj\u001b[0m\u001b[0;34m,\u001b[0m\u001b[0mi\u001b[0m\u001b[0;34m,\u001b[0m\u001b[0mj\u001b[0m\u001b[0;34m)\u001b[0m \u001b[0;31m# at this time\u001b[0m\u001b[0;34m\u001b[0m\u001b[0m\n\u001b[0m\u001b[1;32m     39\u001b[0m                 \u001b[0;31m#xnow is missing what is xnow ???\u001b[0m\u001b[0;34m\u001b[0m\u001b[0;34m\u001b[0m\u001b[0m\n\u001b[1;32m     40\u001b[0m \u001b[0;34m\u001b[0m\u001b[0m\n",
      "\u001b[0;31mNameError\u001b[0m: name 'xnow' is not defined"
     ]
    }
   ],
   "source": [
    "#def main():\n",
    "for I in np.arange(4,Imax,1):\n",
    "    for J in np.arange(8,Jmax,1):\n",
    "        \n",
    "        xjj = np.zeros((I-4,I-4))\n",
    "        yjj = []\n",
    "        xnow = np.zeros((I))\n",
    "        \n",
    "        xylist = np.zeros([(totstep)*(I+J*I)])\n",
    "        #s=0\n",
    "        newx=[]\n",
    "        newlist = []\n",
    "        #time=[0]\n",
    "        \n",
    "        for ii in range(I):\n",
    "            xylist[ii] = x[ii]\n",
    "        newx.append([x[ii] for ii in range(len(x))])\n",
    "        #print(newx)\n",
    "\n",
    "        for jjj in range(J):\n",
    "            for iii in range(I):\n",
    "                xylist[I + jjj*I + iii] = y[jjj,iii]\n",
    "                \n",
    "        for step in np.arange(1,totstep,1):\n",
    "            xy_dot= np.zeros((I+J*I))\n",
    "            for i in range(I):\n",
    "                #s+=1\n",
    "                #time.append(s)\n",
    "                for j in range(J):\n",
    "                    xylist[(I+J*I)*(step):(I+J*I)*(step+1)] = RK4(xylist,step, i,j) \n",
    "                    newlist = xylist[(I+J*I)*(step):(I+J*I)*(step+1)][0:I]     \n",
    "                #newx.append([newlist[ij] for ij in range(len(newlist))])\n",
    "        \n",
    "            for a in range(I):\n",
    "                xnow[a] = (xylist[(I+J*I)*(step-1):(I+J*I)*(step)][0:I])[a]\n",
    "                xjj[a:] = (xylist[(I+J*I)*(step-1):(I+J*I)*(step)][0:I])[a]\n",
    "                yjj.append(xylist[(I+J*I)*(step-1):(I+J*I)*(step)][I:]) \n",
    "    \n",
    "                xjj = J4LE(xnow,xjj,yjj,i) # at this time\n",
    "                newx.append([newlist[ij] for ij in range(len(newlist))])\n",
    "                \n",
    "        ####### use def LEcalc(x1,x4jj)'s function\n",
    "\n",
    "               \n",
    "                \n",
    "                \n",
    "#LEcalc(f,Df,x(:))  # call\n",
    "#LE = LEcalc(f,Df, v0) #def"
   ]
  },
  {
   "cell_type": "code",
   "execution_count": null,
   "metadata": {},
   "outputs": [],
   "source": [
    "print(LE)          \n",
    "plt.imshow(LE, cmap=plt.cm.jet)\n",
    "cb = plt.colorbar(label='LE', pad=0.1)\n",
    "plt.axes().set_aspect('equal')\n",
    "plt.show()"
   ]
  },
  {
   "cell_type": "code",
   "execution_count": null,
   "metadata": {},
   "outputs": [],
   "source": []
  }
 ],
 "metadata": {
  "kernelspec": {
   "display_name": "Python 3",
   "language": "python",
   "name": "python3"
  },
  "language_info": {
   "codemirror_mode": {
    "name": "ipython",
    "version": 3
   },
   "file_extension": ".py",
   "mimetype": "text/x-python",
   "name": "python",
   "nbconvert_exporter": "python",
   "pygments_lexer": "ipython3",
   "version": "3.6.4"
  }
 },
 "nbformat": 4,
 "nbformat_minor": 2
}
